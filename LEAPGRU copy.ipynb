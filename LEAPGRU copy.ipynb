{
 "cells": [
  {
   "cell_type": "code",
   "execution_count": 2,
   "metadata": {},
   "outputs": [],
   "source": [
    "url = input(\"ENter\")"
   ]
  },
  {
   "cell_type": "code",
   "execution_count": 3,
   "metadata": {},
   "outputs": [
    {
     "name": "stdout",
     "output_type": "stream",
     "text": [
      "{\n",
      "    \"title\": \"Trump \\\"Strongly\\\" Requests Putin To Spare Lives Of Ukrainian Soldiers\",\n",
      "    \"authors\": [],\n",
      "    \"publication_date\": \"Unknown\",\n",
      "    \"content\": \"US President Donald Trump said on Friday there is a \\\"very good chance\\\" the war between Russia and Ukraine can end after \\\"productive\\\" discussions with Russian President Vladimir Putin on Thursday.\\n\\n\\\"We had very good and productive discussions with President Vladimir Putin of Russia yesterday, and there is a very good chance that this horrible, bloody war can finally come to an end,\\\" Trump said in a Truth Social post, adding that he had requested that Putin spare the lives of \\\"completely surrounded\\\" Ukrainian troops.\\n\\nUS envoy Steve Witkoff had a long meeting with Putin in Moscow on Thursday night, a source briefed on the matter, who spoke on condition of anonymity, said.\\n\\nThe Truth Social post did not say whether Trump and Putin had spoken to each other.\\n\\nHowever, Kremlin spokesman Dmitry Peskov said Putin had used the meeting to convey \\\"signals\\\" to Trump through Witkoff. He said Russia and the US would work out the timing of a phone call between their presidents once Witkoff had briefed Trump.\\n\\nThe US president has said he wants Moscow and Kyiv to agree a swift ceasefire to pause fighting in a conflict which he has warned has the potential to spiral into World War Three and has already cost many lives on both sides.\\n\\n(Except for the headline, this story has not been edited by NDTV staff and is published from a syndicated feed.)\",\n",
      "    \"url\": \"https://www.ndtv.com/world-news/trump-strongly-requests-putin-to-spare-lives-of-ukrainian-soldiers-7923841\"\n",
      "}\n",
      "US President Donald Trump said on Friday there is a \"very good chance\" the war between Russia and Ukraine can end after \"productive\" discussions with Russian President Vladimir Putin on Thursday.\n",
      "\n",
      "\"We had very good and productive discussions with President Vladimir Putin of Russia yesterday, and there is a very good chance that this horrible, bloody war can finally come to an end,\" Trump said in a Truth Social post, adding that he had requested that Putin spare the lives of \"completely surrounded\" Ukrainian troops.\n",
      "\n",
      "US envoy Steve Witkoff had a long meeting with Putin in Moscow on Thursday night, a source briefed on the matter, who spoke on condition of anonymity, said.\n",
      "\n",
      "The Truth Social post did not say whether Trump and Putin had spoken to each other.\n",
      "\n",
      "However, Kremlin spokesman Dmitry Peskov said Putin had used the meeting to convey \"signals\" to Trump through Witkoff. He said Russia and the US would work out the timing of a phone call between their presidents once Witkoff had briefed Trump.\n",
      "\n",
      "The US president has said he wants Moscow and Kyiv to agree a swift ceasefire to pause fighting in a conflict which he has warned has the potential to spiral into World War Three and has already cost many lives on both sides.\n",
      "\n",
      "(Except for the headline, this story has not been edited by NDTV staff and is published from a syndicated feed.)\n"
     ]
    }
   ],
   "source": [
    "from newspaper import Article\n",
    "import requests\n",
    "from newspaper.configuration import Configuration\n",
    "import json\n",
    "\n",
    "# URL of the article\n",
    "# Custom configuration to set headers\n",
    "config = Configuration()\n",
    "config.browser_user_agent = (\n",
    "    \"Mozilla/5.0 (Windows NT 10.0; Win64; x64) AppleWebKit/537.36 (KHTML, like Gecko) Chrome/110.0.0.0 Safari/537.36\"\n",
    ")\n",
    "\n",
    "# Create the Article object with the custom configuration\n",
    "article = Article(url, config=config)\n",
    "\n",
    "try:\n",
    "    # Fetch and parse the article\n",
    "    article.download()\n",
    "    article.parse()\n",
    "    \n",
    "    # Extract content\n",
    "    article_data = {\n",
    "        \"title\": article.title,\n",
    "        \"authors\": article.authors,\n",
    "        \"publication_date\": str(article.publish_date) if article.publish_date else \"Unknown\",\n",
    "        \"content\": article.text,\n",
    "        \"url\": url\n",
    "    }\n",
    "\n",
    "    # Convert to JSON\n",
    "    article_json = json.dumps(article_data, indent=4)\n",
    "    print(article_json)\n",
    "\n",
    "except Exception as e:\n",
    "    print(f\"An error occurred: {e}\")\n",
    "\n",
    "article_dict = json.loads(article_json)\n",
    "\n",
    "# Extract the content part\n",
    "content = article_dict.get(\"content\", \"Content not found\")\n",
    "print(content)"
   ]
  },
  {
   "cell_type": "code",
   "execution_count": 4,
   "metadata": {},
   "outputs": [],
   "source": [
    "headline = article_dict.get(\"content\", \"content not found\")"
   ]
  },
  {
   "cell_type": "code",
   "execution_count": 5,
   "metadata": {},
   "outputs": [
    {
     "data": {
      "text/plain": [
       "'US President Donald Trump said on Friday there is a \"very good chance\" the war between Russia and Ukraine can end after \"productive\" discussions with Russian President Vladimir Putin on Thursday.\\n\\n\"We had very good and productive discussions with President Vladimir Putin of Russia yesterday, and there is a very good chance that this horrible, bloody war can finally come to an end,\" Trump said in a Truth Social post, adding that he had requested that Putin spare the lives of \"completely surrounded\" Ukrainian troops.\\n\\nUS envoy Steve Witkoff had a long meeting with Putin in Moscow on Thursday night, a source briefed on the matter, who spoke on condition of anonymity, said.\\n\\nThe Truth Social post did not say whether Trump and Putin had spoken to each other.\\n\\nHowever, Kremlin spokesman Dmitry Peskov said Putin had used the meeting to convey \"signals\" to Trump through Witkoff. He said Russia and the US would work out the timing of a phone call between their presidents once Witkoff had briefed Trump.\\n\\nThe US president has said he wants Moscow and Kyiv to agree a swift ceasefire to pause fighting in a conflict which he has warned has the potential to spiral into World War Three and has already cost many lives on both sides.\\n\\n(Except for the headline, this story has not been edited by NDTV staff and is published from a syndicated feed.)'"
      ]
     },
     "execution_count": 5,
     "metadata": {},
     "output_type": "execute_result"
    }
   ],
   "source": [
    "headline"
   ]
  },
  {
   "cell_type": "code",
   "execution_count": 6,
   "metadata": {},
   "outputs": [
    {
     "name": "stdout",
     "output_type": "stream",
     "text": [
      "Filtered Words: ['us', 'president', 'donald', 'trump', 'said', 'friday', 'good', 'chance', 'war', 'russia', 'ukraine', 'end', 'productive', 'discussions', 'russian', 'vladimir', 'putin', 'thursday', 'yesterday', 'horrible', 'bloody', 'finally', 'come', 'truth', 'social', 'post', 'adding', 'requested', 'spare', 'lives', 'completely', 'surrounded', 'ukrainian', 'troops', 'envoy', 'steve', 'witkoff', 'long', 'meeting', 'moscow', 'night', 'source', 'briefed', 'matter', 'spoke', 'condition', 'anonymity', 'say', 'whether', 'spoken', 'however', 'kremlin', 'spokesman', 'dmitry', 'peskov', 'used', 'convey', 'signals', 'would', 'work', 'timing', 'phone', 'call', 'presidents', 'wants', 'kyiv', 'agree', 'swift', 'ceasefire', 'pause', 'fighting', 'conflict', 'warned', 'potential', 'spiral', 'world', 'three', 'already', 'cost', 'many', 'sides', 'except', 'headline', 'story', 'edited', 'ndtv', 'staff', 'published', 'syndicated', 'feed']\n"
     ]
    },
    {
     "name": "stderr",
     "output_type": "stream",
     "text": [
      "[nltk_data] Downloading package punkt_tab to\n",
      "[nltk_data]     C:\\Users\\liyan\\AppData\\Roaming\\nltk_data...\n",
      "[nltk_data]   Package punkt_tab is already up-to-date!\n",
      "[nltk_data] Downloading package stopwords to\n",
      "[nltk_data]     C:\\Users\\liyan\\AppData\\Roaming\\nltk_data...\n",
      "[nltk_data]   Package stopwords is already up-to-date!\n"
     ]
    }
   ],
   "source": [
    "import nltk\n",
    "from nltk.corpus import stopwords\n",
    "\n",
    "# Download NLTK resources\n",
    "nltk.download('punkt_tab')\n",
    "nltk.download('stopwords')\n",
    "\n",
    "# Sample long news article (Modify this with any long text)\n",
    "news_article = headline\n",
    "\n",
    "# Tokenizing words\n",
    "words = nltk.word_tokenize(news_article.lower())\n",
    "\n",
    "# Remove stopwords and duplicate words\n",
    "stop_words = set(stopwords.words(\"english\"))\n",
    "filtered_words = []\n",
    "seen_words = set()\n",
    "\n",
    "for word in words:\n",
    "    if word.isalpha() and word not in stop_words and word not in seen_words:\n",
    "        filtered_words.append(word)\n",
    "        seen_words.add(word)\n",
    "\n",
    "print(\"Filtered Words:\", filtered_words)\n"
   ]
  },
  {
   "cell_type": "code",
   "execution_count": 7,
   "metadata": {},
   "outputs": [
    {
     "name": "stdout",
     "output_type": "stream",
     "text": [
      "Shape of Word Embeddings: torch.Size([90, 10])\n"
     ]
    }
   ],
   "source": [
    "import torch\n",
    "from collections import defaultdict\n",
    "\n",
    "# Set embedding size\n",
    "embedding_dim = 10\n",
    "\n",
    "# Create word embedding (Each word gets a random 10D vector)\n",
    "word_to_vec = defaultdict(lambda: torch.randn(embedding_dim))\n",
    "\n",
    "# Convert filtered words into embeddings\n",
    "word_embeddings = torch.stack([word_to_vec[word] for word in filtered_words])\n",
    "\n",
    "print(\"Shape of Word Embeddings:\", word_embeddings.shape)\n"
   ]
  },
  {
   "cell_type": "code",
   "execution_count": 8,
   "metadata": {},
   "outputs": [
    {
     "name": "stdout",
     "output_type": "stream",
     "text": [
      "Prediction Probability (Real News): 0.5155264735221863\n",
      "Final List of Processed Words: ['us', 'president', 'donald', 'trump', 'said', 'friday', 'good', 'chance', 'war', 'russia', 'ukraine', 'end', 'productive', 'discussions', 'russian', 'vladimir', 'putin', 'thursday', 'yesterday', 'horrible', 'bloody', 'finally', 'come', 'truth', 'social', 'post', 'adding', 'requested', 'spare', 'lives', 'completely', 'surrounded', 'ukrainian', 'troops', 'envoy', 'steve', 'witkoff', 'long', 'meeting', 'moscow', 'night', 'source', 'briefed', 'matter', 'spoke', 'condition', 'anonymity', 'say', 'whether', 'spoken', 'however', 'kremlin', 'spokesman', 'dmitry', 'peskov', 'used', 'convey', 'signals', 'would', 'work', 'timing', 'phone', 'call', 'presidents', 'wants', 'kyiv', 'agree', 'swift', 'ceasefire', 'pause', 'fighting', 'conflict', 'warned', 'potential', 'spiral', 'world', 'three', 'already', 'cost', 'many', 'sides', 'except', 'headline', 'story', 'edited', 'ndtv', 'staff', 'published', 'syndicated', 'feed']\n"
     ]
    }
   ],
   "source": [
    "import torch.nn as nn\n",
    "\n",
    "word_embeddings = word_embeddings.unsqueeze(0)  # (1, sequence_length, embedding_dim)\n",
    "\n",
    "class LeapGRU(nn.Module):\n",
    "    def __init__(self, input_size, hidden_size, num_layers):\n",
    "        super(LeapGRU, self).__init__()\n",
    "        self.hidden_size = hidden_size\n",
    "        self.num_layers = num_layers\n",
    "        self.gru = nn.GRU(input_size, hidden_size, num_layers, batch_first=True)\n",
    "        self.fc = nn.Linear(hidden_size, 1)  # Output layer for real/fake classification\n",
    "        self.sigmoid = nn.Sigmoid()  # To get probability (0 = fake, 1 = real)\n",
    "\n",
    "    def forward(self, x):\n",
    "        batch_size = x.size(0)\n",
    "        h0 = torch.zeros(self.num_layers, batch_size, self.hidden_size)  # (num_layers, batch_size, hidden_size)\n",
    "        out, _ = self.gru(x, h0)  # GRU forward pass\n",
    "        out = self.fc(out[:, -1, :])  # Take last output\n",
    "        return self.sigmoid(out)  # Output probability\n",
    "\n",
    "\n",
    "# Define model\n",
    "hidden_size = 20\n",
    "num_layers = 1\n",
    "model = LeapGRU(input_size=embedding_dim, hidden_size=hidden_size, num_layers=num_layers)\n",
    "\n",
    "# Pass data through Leap-GRU\n",
    "output = model(word_embeddings)\n",
    "\n",
    "print(\"Prediction Probability (Real News):\", output.item())\n",
    "print(\"Final List of Processed Words:\", filtered_words)\n"
   ]
  },
  {
   "cell_type": "code",
   "execution_count": 9,
   "metadata": {},
   "outputs": [
    {
     "data": {
      "text/html": [
       "<div>\n",
       "<style scoped>\n",
       "    .dataframe tbody tr th:only-of-type {\n",
       "        vertical-align: middle;\n",
       "    }\n",
       "\n",
       "    .dataframe tbody tr th {\n",
       "        vertical-align: top;\n",
       "    }\n",
       "\n",
       "    .dataframe thead th {\n",
       "        text-align: right;\n",
       "    }\n",
       "</style>\n",
       "<table border=\"1\" class=\"dataframe\">\n",
       "  <thead>\n",
       "    <tr style=\"text-align: right;\">\n",
       "      <th></th>\n",
       "      <th>Word</th>\n",
       "      <th>Category</th>\n",
       "    </tr>\n",
       "  </thead>\n",
       "  <tbody>\n",
       "    <tr>\n",
       "      <th>0</th>\n",
       "      <td>Column1</td>\n",
       "      <td>Column2</td>\n",
       "    </tr>\n",
       "    <tr>\n",
       "      <th>1</th>\n",
       "      <td>Government</td>\n",
       "      <td>Politics &amp; Governance</td>\n",
       "    </tr>\n",
       "    <tr>\n",
       "      <th>2</th>\n",
       "      <td>Election</td>\n",
       "      <td>Politics &amp; Governance</td>\n",
       "    </tr>\n",
       "    <tr>\n",
       "      <th>3</th>\n",
       "      <td>Policy</td>\n",
       "      <td>Politics &amp; Governance</td>\n",
       "    </tr>\n",
       "    <tr>\n",
       "      <th>4</th>\n",
       "      <td>President</td>\n",
       "      <td>Politics &amp; Governance</td>\n",
       "    </tr>\n",
       "  </tbody>\n",
       "</table>\n",
       "</div>"
      ],
      "text/plain": [
       "         Word               Category\n",
       "0     Column1                Column2\n",
       "1  Government  Politics & Governance\n",
       "2    Election  Politics & Governance\n",
       "3      Policy  Politics & Governance\n",
       "4   President  Politics & Governance"
      ]
     },
     "execution_count": 9,
     "metadata": {},
     "output_type": "execute_result"
    }
   ],
   "source": [
    "import pandas as pd\n",
    "\n",
    "# Load the Excel file\n",
    "file_path = \"news_keywords.xlsx\"  # Update the path if necessary\n",
    "df = pd.read_excel(file_path)\n",
    "\n",
    "# Display the first few rows\n",
    "df.head()\n"
   ]
  },
  {
   "cell_type": "code",
   "execution_count": 10,
   "metadata": {},
   "outputs": [
    {
     "name": "stdout",
     "output_type": "stream",
     "text": [
      "{'Politics & Governance': {'government', 'authority', 'coalition', 'president', 'policy', 'bureaucracy', 'constitution', 'campaign', 'election', 'democracy', 'senate', 'legislation', 'parliament', 'minister', 'opposition', 'congress', 'reform', 'treaty', 'ballot', 'law', 'prime minister', 'summit', 'diplomatic', 'sanctions', 'vote', 'corruption'}, 'Economy & Business': {'venture capital', 'loss', 'recession', 'investment', 'unemployment', 'market', 'tax', 'dividend', 'budget', 'finance', 'interest rate', 'stock', 'profit', 'gdp', 'revenue', 'merger', 'commodity', 'shares', 'export', 'corporation', 'industry', 'economy', 'inflation', 'trade', 'banking', 'deficit', 'startup', 'debt', 'acquisition', 'consumer'}, 'International Relations & Conflict': {'embargo', 'un', 'defense', 'attack', 'border', 'security', 'arms deal', 'refugee', 'hostilities', 'alliance', 'resolution', 'conflict', 'missile', 'war', 'negotiation', 'occupation', 'peace', 'ceasefire', 'truce', 'espionage', 'retaliation', 'intervention', 'terrorism', 'crisis', 'military', 'nato', 'diplomacy', 'invasion'}, 'Health & Science': {'pollution', 'treatment', 'research', 'genetic', 'hospital', 'surgery', 'climate', 'antibiotic', 'quarantine', 'medicine', 'immunization', 'pandemic', 'diagnosis', 'renewable', 'contagion', 'conservation', 'wildlife', 'vaccine', 'epidemic', 'biotech', 'nutrition', 'mental health', 'pharmaceutical', 'ecosystem', 'virus', 'outbreak', 'environment', 'mutation', 'ai', 'healthcare', 'disease'}, 'Technology & Innovation': {'robotics', 'software', 'big data', 'data', 'digital', 'cybersecurity', 'cryptocurrency', 'autonomous', 'cyber attack', 'server', 'encryption', 'machine learning', 'network', 'virtual reality', 'algorithm', 'cloud', '5g', 'quantum computing', 'malware', 'internet', 'hacking', 'automation', 'blockchain', 'firmware', 'iot', 'social media', 'augmented reality', 'biometrics', 'deep learning', 'smartphone'}, 'Disasters & Emergencies': {'recovery', 'warning', 'collapse', 'drought', 'storm', 'survivors', 'emergency', 'blackout', 'shelter', 'landslide', 'famine', 'rescue', 'hazard', 'hurricane', 'radiation', 'relief', 'tsunami', 'casualties', 'aftershock', 'toxic spill', 'flood', 'tornado', 'first responders', 'environmental hazard', 'earthquake', 'wildfire', 'evacuation'}, 'Crime & Legal Affairs': {'cybercrime', 'extortion', 'evidence', 'court', 'police', 'bribery', 'probation', 'bail', 'smuggling', 'warrant', 'trial', 'assault', 'fraud', 'verdict', 'appeal', 'parole', 'perjury', 'forensic', 'kidnapping', 'arrest', 'forgery', 'sentence', 'homicide', 'lawsuit', 'indictment', 'conviction', 'prosecutor', 'justice', 'investigation', 'jury'}, 'Sports & Entertainment': {'league', 'score', 'playoffs', 'penalty', 'festival', 'performance', 'music', 'coach', 'referee', 'medal', 'marathon', 'record', 'film', 'championship', 'trophy', 'goalkeeper', 'athlete', 'finals', 'olympics', 'tournament', 'sprint', 'stadium', 'concert', 'broadcast', 'rivalry', 'streaming', 'commentary', 'sponsor', 'celebrity', 'award', 'boxing'}}\n"
     ]
    }
   ],
   "source": [
    "import pandas as pd\n",
    "\n",
    "# Load the Excel file\n",
    "file_path = \"news_keywords.xlsx\"  # Update with your file path\n",
    "df = pd.read_excel(file_path, usecols=[0, 1])  # Read only the first two columns\n",
    "\n",
    "# Convert to dictionary with unique values per category\n",
    "category_dict = {}\n",
    "for value, category in zip(df.iloc[1:, 0], df.iloc[1:, 1]):\n",
    "    category_dict.setdefault(category, set()).add(value.lower())  # Use set instead of list\n",
    "\n",
    "# Print or use the dictionary\n",
    "print(category_dict)\n"
   ]
  },
  {
   "cell_type": "code",
   "execution_count": 11,
   "metadata": {},
   "outputs": [],
   "source": [
    "category_keywords = category_dict"
   ]
  },
  {
   "cell_type": "code",
   "execution_count": 12,
   "metadata": {},
   "outputs": [
    {
     "name": "stdout",
     "output_type": "stream",
     "text": [
      "Category Similarity Percentages:\n",
      "Politics & Governance: 3.85%\n",
      "Economy & Business: 0.00%\n",
      "International Relations & Conflict: 10.71%\n",
      "Health & Science: 0.00%\n",
      "Technology & Innovation: 0.00%\n",
      "Disasters & Emergencies: 0.00%\n",
      "Crime & Legal Affairs: 0.00%\n",
      "Sports & Entertainment: 0.00%\n"
     ]
    }
   ],
   "source": [
    "from collections import Counter\n",
    "\n",
    "# Compute similarity percentages\n",
    "category_similarity = {}\n",
    "for category, keywords in category_keywords.items():\n",
    "    matched_words = set(filtered_words) & keywords  # Common words\n",
    "    similarity = (len(matched_words) / len(keywords)) * 100  # Percentage similarity\n",
    "    category_similarity[category] = similarity\n",
    "\n",
    "# Output results\n",
    "print(\"Category Similarity Percentages:\")\n",
    "for category, similarity in category_similarity.items():\n",
    "    print(f\"{category}: {similarity:.2f}%\")\n"
   ]
  },
  {
   "cell_type": "code",
   "execution_count": 23,
   "metadata": {},
   "outputs": [
    {
     "data": {
      "image/png": "[encoded data removed]",
      "text/plain": [
       "<Figure size 1000x600 with 1 Axes>"
      ]
     },
     "metadata": {},
     "output_type": "display_data"
    }
   ],
   "source": [
    "import matplotlib.pyplot as plt\n",
    "\n",
    "categories = list(category_similarity.keys())\n",
    "similarities = list(category_similarity.values())\n",
    "\n",
    "# Create a bar chart\n",
    "plt.figure(figsize=(10, 6))\n",
    "bars = plt.bar(categories, similarities, color='skyblue')\n",
    "\n",
    "# Add labels and title\n",
    "plt.xlabel('Categories')\n",
    "plt.ylabel('Similarity Percentage')\n",
    "plt.title('Category Similarity Percentages')\n",
    "plt.xticks(rotation=90)\n",
    "# Add percentage labels on top of each bar\n",
    "for bar in bars:\n",
    "    yval = bar.get_height()\n",
    "    plt.text(bar.get_x() + bar.get_width()/2, yval + 1, f'{yval:.2f}%', ha='center', va='bottom')\n",
    "\n",
    "# Display the plot\n",
    "plt.ylim(0, 40)  # Ensure the y-axis starts at 0 and ends at 100\n",
    "plt.show()\n"
   ]
  },
  {
   "cell_type": "code",
   "execution_count": null,
   "metadata": {},
   "outputs": [],
   "source": []
  }
 ],
 "metadata": {
  "kernelspec": {
   "display_name": "Python 3",
   "language": "python",
   "name": "python3"
  },
  "language_info": {
   "codemirror_mode": {
    "name": "ipython",
    "version": 3
   },
   "file_extension": ".py",
   "mimetype": "text/x-python",
   "name": "python",
   "nbconvert_exporter": "python",
   "pygments_lexer": "ipython3",
   "version": "3.11.2"
  }
 },
 "nbformat": 4,
 "nbformat_minor": 2
}
