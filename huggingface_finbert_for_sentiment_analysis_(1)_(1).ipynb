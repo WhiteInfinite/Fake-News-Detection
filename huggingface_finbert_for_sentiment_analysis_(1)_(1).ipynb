{
  "cells": [
    {
      "cell_type": "code",
      "execution_count": 129,
      "id": "pEDd5sVDqRg7",
      "metadata": {
        "colab": {
          "base_uri": "https://localhost:8080/"
        },
        "id": "pEDd5sVDqRg7",
        "outputId": "84a80e43-e15f-4c2e-8d7b-cfaeeebaffea"
      },
      "outputs": [
        {
          "data": {
            "text/plain": [
              "'https://goodnews.eu/en/good-news/good-news-bristol-empowers-residents-to-invest-in-climate-action-mapping-seagrass-to-boost-marine-conservation/'"
            ]
          },
          "execution_count": 129,
          "metadata": {},
          "output_type": "execute_result"
        }
      ],
      "source": [
        "url = input(\"ENter\")\n",
        "urls"
      ]
    },
    {
      "cell_type": "code",
      "execution_count": 130,
      "id": "tnXvWssAqRdl",
      "metadata": {
        "colab": {
          "base_uri": "https://localhost:8080/",
          "height": 546
        },
        "id": "tnXvWssAqRdl",
        "outputId": "6b7794b0-d43e-44f2-c677-108831b666dc"
      },
      "outputs": [
        {
          "name": "stdout",
          "output_type": "stream",
          "text": [
            "{\n",
            "    \"title\": \"Good News: Bristol empowers residents to invest in climate action, Mapping seagrass to boost marine conservation,\",\n",
            "    \"authors\": [],\n",
            "    \"publication_date\": \"2025-03-05 15:20:09+00:00\",\n",
            "    \"content\": \"GOOD NEWS | 5 MARCH 2025\\n\\nThank you for supporting Good News in February! Thanks to you, we are able to bring you Good News twice a week. Today we have climate news from Bristol, marine conservation updates from the Western Indian Ocean \\u2013 and did you know that dogs can help save koalas by sniffing their poop?\",\n",
            "    \"url\": \"https://goodnews.eu/en/good-news/good-news-bristol-empowers-residents-to-invest-in-climate-action-mapping-seagrass-to-boost-marine-conservation/\"\n",
            "}\n"
          ]
        }
      ],
      "source": [
        "import newspaper\n",
        "from newspaper import Article\n",
        "import requests\n",
        "from newspaper.configuration import Configuration\n",
        "import json\n",
        "\n",
        "# URL of the article\n",
        "# Custom configuration to set headers\n",
        "config = Configuration()\n",
        "config.browser_user_agent = (\n",
        "    \"Mozilla/5.0 (Windows NT 10.0; Win64; x64) AppleWebKit/537.36 (KHTML, like Gecko) Chrome/110.0.0.0 Safari/537.36\"\n",
        ")\n",
        "\n",
        "# Create the Article object with the custom configuration\n",
        "article = Article(url, config=config)\n",
        "\n",
        "try:\n",
        "    # Fetch and parse the article\n",
        "    article.download()\n",
        "    article.parse()\n",
        "\n",
        "    # Extract content\n",
        "    article_data = {\n",
        "        \"title\": article.title,\n",
        "        \"authors\": article.authors,\n",
        "        \"publication_date\": str(article.publish_date) if article.publish_date else \"Unknown\",\n",
        "        \"content\": article.text,\n",
        "        \"url\": url\n",
        "    }\n",
        "\n",
        "    # Convert to JSON\n",
        "    article_json = json.dumps(article_data, indent=4)\n",
        "    print(article_json)\n",
        "\n",
        "except Exception as e:\n",
        "    print(f\"An error occurred: {e}\")\n",
        "\n",
        "article_dict = json.loads(article_json)\n"
      ]
    },
    {
      "cell_type": "code",
      "execution_count": 131,
      "id": "rklsnBo2qRX0",
      "metadata": {
        "id": "rklsnBo2qRX0"
      },
      "outputs": [
        {
          "data": {
            "text/plain": [
              "'Good News: Bristol empowers residents to invest in climate action, Mapping seagrass to boost marine conservation,'"
            ]
          },
          "execution_count": 131,
          "metadata": {},
          "output_type": "execute_result"
        }
      ],
      "source": [
        "ttl = article_dict.get(\"title\", \"title not found\")\n",
        "ttl"
      ]
    },
    {
      "cell_type": "code",
      "execution_count": 132,
      "id": "a0cb8537",
      "metadata": {
        "_cell_guid": "b1076dfc-b9ad-4769-8c92-a6c4dae69d19",
        "_uuid": "8f2839f25d086af736a60e9eeb907d3b93b6e0e5",
        "execution": {
          "iopub.execute_input": "2023-11-23T07:14:54.221860Z",
          "iopub.status.busy": "2023-11-23T07:14:54.221441Z",
          "iopub.status.idle": "2023-11-23T07:15:02.942215Z",
          "shell.execute_reply": "2023-11-23T07:15:02.940920Z"
        },
        "id": "a0cb8537",
        "papermill": {
          "duration": 8.731284,
          "end_time": "2023-11-23T07:15:02.945303",
          "exception": false,
          "start_time": "2023-11-23T07:14:54.214019",
          "status": "completed"
        },
        "tags": []
      },
      "outputs": [],
      "source": [
        "import pandas as pd\n",
        "import scipy\n",
        "import seaborn as sns\n",
        "import matplotlib.pyplot as plt\n",
        "from sklearn.metrics import accuracy_score, classification_report, confusion_matrix, roc_auc_score\n",
        "import torch\n",
        "from transformers import AutoTokenizer, AutoModelForSequenceClassification"
      ]
    },
    {
      "cell_type": "code",
      "execution_count": 133,
      "id": "d7d67303",
      "metadata": {
        "colab": {
          "base_uri": "https://localhost:8080/",
          "height": 206
        },
        "execution": {
          "iopub.execute_input": "2023-11-23T07:15:02.973379Z",
          "iopub.status.busy": "2023-11-23T07:15:02.972192Z",
          "iopub.status.idle": "2023-11-23T07:15:03.040332Z",
          "shell.execute_reply": "2023-11-23T07:15:03.038919Z"
        },
        "id": "d7d67303",
        "outputId": "16ee236d-7524-4fcf-ce2f-44926979b9c6",
        "papermill": {
          "duration": 0.078656,
          "end_time": "2023-11-23T07:15:03.043216",
          "exception": false,
          "start_time": "2023-11-23T07:15:02.964560",
          "status": "completed"
        },
        "tags": []
      },
      "outputs": [
        {
          "data": {
            "text/html": [
              "<div>\n",
              "<style scoped>\n",
              "    .dataframe tbody tr th:only-of-type {\n",
              "        vertical-align: middle;\n",
              "    }\n",
              "\n",
              "    .dataframe tbody tr th {\n",
              "        vertical-align: top;\n",
              "    }\n",
              "\n",
              "    .dataframe thead th {\n",
              "        text-align: right;\n",
              "    }\n",
              "</style>\n",
              "<table border=\"1\" class=\"dataframe\">\n",
              "  <thead>\n",
              "    <tr style=\"text-align: right;\">\n",
              "      <th></th>\n",
              "      <th>Sentiment</th>\n",
              "      <th>Text</th>\n",
              "    </tr>\n",
              "  </thead>\n",
              "  <tbody>\n",
              "    <tr>\n",
              "      <th>0</th>\n",
              "      <td>neutral</td>\n",
              "      <td>According to Gran , the company has no plans t...</td>\n",
              "    </tr>\n",
              "    <tr>\n",
              "      <th>1</th>\n",
              "      <td>neutral</td>\n",
              "      <td>Technopolis plans to develop in stages an area...</td>\n",
              "    </tr>\n",
              "    <tr>\n",
              "      <th>2</th>\n",
              "      <td>negative</td>\n",
              "      <td>The international electronic industry company ...</td>\n",
              "    </tr>\n",
              "    <tr>\n",
              "      <th>3</th>\n",
              "      <td>positive</td>\n",
              "      <td>With the new production plant the company woul...</td>\n",
              "    </tr>\n",
              "    <tr>\n",
              "      <th>4</th>\n",
              "      <td>positive</td>\n",
              "      <td>According to the company 's updated strategy f...</td>\n",
              "    </tr>\n",
              "  </tbody>\n",
              "</table>\n",
              "</div>"
            ],
            "text/plain": [
              "  Sentiment                                               Text\n",
              "0   neutral  According to Gran , the company has no plans t...\n",
              "1   neutral  Technopolis plans to develop in stages an area...\n",
              "2  negative  The international electronic industry company ...\n",
              "3  positive  With the new production plant the company woul...\n",
              "4  positive  According to the company 's updated strategy f..."
            ]
          },
          "execution_count": 133,
          "metadata": {},
          "output_type": "execute_result"
        }
      ],
      "source": [
        "  data = pd.read_csv('all-data.csv',\n",
        "                    encoding='unicode_escape',\n",
        "                    names=['Sentiment', 'Text'])\n",
        "  data.head()"
      ]
    },
    {
      "cell_type": "code",
      "execution_count": 134,
      "id": "c8c8c99e",
      "metadata": {
        "colab": {
          "base_uri": "https://localhost:8080/"
        },
        "execution": {
          "iopub.execute_input": "2023-11-23T07:15:03.058398Z",
          "iopub.status.busy": "2023-11-23T07:15:03.057972Z",
          "iopub.status.idle": "2023-11-23T07:15:03.065565Z",
          "shell.execute_reply": "2023-11-23T07:15:03.064429Z"
        },
        "id": "c8c8c99e",
        "outputId": "259f3a6f-4886-47bd-fcf0-3d52eae86c4c",
        "papermill": {
          "duration": 0.01842,
          "end_time": "2023-11-23T07:15:03.068452",
          "exception": false,
          "start_time": "2023-11-23T07:15:03.050032",
          "status": "completed"
        },
        "tags": []
      },
      "outputs": [
        {
          "data": {
            "text/plain": [
              "(4846, 2)"
            ]
          },
          "execution_count": 134,
          "metadata": {},
          "output_type": "execute_result"
        }
      ],
      "source": [
        "data.shape"
      ]
    },
    {
      "cell_type": "code",
      "execution_count": 135,
      "id": "506dff22",
      "metadata": {
        "execution": {
          "iopub.execute_input": "2023-11-23T07:15:03.111294Z",
          "iopub.status.busy": "2023-11-23T07:15:03.110864Z",
          "iopub.status.idle": "2023-11-23T07:15:03.117495Z",
          "shell.execute_reply": "2023-11-23T07:15:03.115632Z"
        },
        "id": "506dff22",
        "papermill": {
          "duration": 0.018129,
          "end_time": "2023-11-23T07:15:03.120126",
          "exception": false,
          "start_time": "2023-11-23T07:15:03.101997",
          "status": "completed"
        },
        "tags": []
      },
      "outputs": [],
      "source": [
        "X = data['Text'].to_list()\n",
        "y = data['Sentiment'].to_list()"
      ]
    },
    {
      "cell_type": "code",
      "execution_count": 136,
      "id": "8b875cd2",
      "metadata": {
        "_kg_hide-output": true,
        "execution": {
          "iopub.execute_input": "2023-11-23T07:15:03.149874Z",
          "iopub.status.busy": "2023-11-23T07:15:03.149089Z",
          "iopub.status.idle": "2023-11-23T07:15:17.387911Z",
          "shell.execute_reply": "2023-11-23T07:15:17.386865Z"
        },
        "id": "8b875cd2",
        "papermill": {
          "duration": 14.25056,
          "end_time": "2023-11-23T07:15:17.391165",
          "exception": false,
          "start_time": "2023-11-23T07:15:03.140605",
          "status": "completed"
        },
        "tags": []
      },
      "outputs": [],
      "source": [
        "tokenizer = AutoTokenizer.from_pretrained(\"ProsusAI/finbert\")\n",
        "model = AutoModelForSequenceClassification.from_pretrained(\"ProsusAI/finbert\")"
      ]
    },
    {
      "cell_type": "code",
      "execution_count": 137,
      "id": "372d9724",
      "metadata": {
        "colab": {
          "base_uri": "https://localhost:8080/"
        },
        "execution": {
          "iopub.execute_input": "2023-11-23T07:15:17.425025Z",
          "iopub.status.busy": "2023-11-23T07:15:17.424408Z",
          "iopub.status.idle": "2023-11-23T07:22:40.986522Z",
          "shell.execute_reply": "2023-11-23T07:22:40.985241Z"
        },
        "id": "372d9724",
        "outputId": "4bd5b2ce-4b3b-4a83-bf9a-2386d276a8a8",
        "papermill": {
          "duration": 443.574437,
          "end_time": "2023-11-23T07:22:40.989591",
          "exception": false,
          "start_time": "2023-11-23T07:15:17.415154",
          "status": "completed"
        },
        "tags": []
      },
      "outputs": [
        {
          "name": "stdout",
          "output_type": "stream",
          "text": [
            "Predicted Sentiment: positive\n",
            "Probability: 0.9050003290176392\n"
          ]
        }
      ],
      "source": [
        "user_input = ttl\n",
        "\n",
        "with torch.no_grad():\n",
        "    input_sequence = tokenizer(user_input, return_tensors=\"pt\", padding=True, truncation=True, max_length=512)\n",
        "    logits = model(**input_sequence).logits\n",
        "    scores = {\n",
        "        k: v\n",
        "        for k, v in zip(\n",
        "            model.config.id2label.values(),\n",
        "            scipy.special.softmax(logits.numpy().squeeze()),\n",
        "        )\n",
        "    }\n",
        "    predicted_sentiment = max(scores, key=scores.get)\n",
        "    probability = max(scores.values())\n",
        "\n",
        "print(f\"Predicted Sentiment: {predicted_sentiment}\")\n",
        "print(f\"Probability: {probability}\")"
      ]
    }
  ],
  "metadata": {
    "colab": {
      "provenance": []
    },
    "kaggle": {
      "accelerator": "none",
      "dataSources": [
        {
          "datasetId": 622510,
          "sourceId": 1192499,
          "sourceType": "datasetVersion"
        }
      ],
      "dockerImageVersionId": 30587,
      "isGpuEnabled": false,
      "isInternetEnabled": true,
      "language": "python",
      "sourceType": "notebook"
    },
    "kernelspec": {
      "display_name": "Python 3",
      "language": "python",
      "name": "python3"
    },
    "language_info": {
      "codemirror_mode": {
        "name": "ipython",
        "version": 3
      },
      "file_extension": ".py",
      "mimetype": "text/x-python",
      "name": "python",
      "nbconvert_exporter": "python",
      "pygments_lexer": "ipython3",
      "version": "3.11.2"
    },
    "papermill": {
      "default_parameters": {},
      "duration": 472.553504,
      "end_time": "2023-11-23T07:22:43.230262",
      "environment_variables": {},
      "exception": null,
      "input_path": "__notebook__.ipynb",
      "output_path": "__notebook__.ipynb",
      "parameters": {},
      "start_time": "2023-11-23T07:14:50.676758",
      "version": "2.4.0"
    }
  },
  "nbformat": 4,
  "nbformat_minor": 5
}
