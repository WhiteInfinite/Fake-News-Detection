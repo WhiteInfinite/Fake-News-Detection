{
 "cells": [
  {
   "cell_type": "code",
   "execution_count": 7,
   "metadata": {},
   "outputs": [
    {
     "data": {
      "text/plain": [
       "'https://www.ndtv.com/world-news/us-tariffs-donald-trump-trump-tariffs-the-surprise-upside-for-india-8098423'"
      ]
     },
     "execution_count": 7,
     "metadata": {},
     "output_type": "execute_result"
    }
   ],
   "source": [
    "url = input(\"ENter\")\n",
    "url"
   ]
  },
  {
   "cell_type": "code",
   "execution_count": 8,
   "metadata": {},
   "outputs": [
    {
     "name": "stdout",
     "output_type": "stream",
     "text": [
      "{\n",
      "    \"title\": \"Trump Tariffs: The Surprise Upside For India\",\n",
      "    \"authors\": [],\n",
      "    \"publication_date\": \"Unknown\",\n",
      "    \"content\": \"As Indian equity markets panic turn and exporters brace for US President Donald Trump's \\\"Liberation Day\\\" tariffs to kick in, the question is - will it be as harsh as feared? Regardless of gloom forecasters, pragmatism is the key.\\n\\nTrump has imposed a flat 26% tariff on Indian exports to the US in addition to a baseline duty of 10% applicable to all countries. The latter came into force on April 5 and the country-specific duty will go live Wednesday.\\n\\nAdvertisement - Scroll to continue\\n\\nThe worst impact will be felt by the electronics, gems, and jewellery sectors, experts fear. But that impact will be limited and short-term because of the country's moderate share in global exports. The impact of the tariffs on competing economies is another aspect that may end up benefiting India, sources said.\\n\\nAdvantage India?\\n\\nThe US has imposed higher tariffs against countries like China, Vietnam and Indonesia - which compete with India in the export sector - and Indian exporters will benefit from this, said sources. India has the first mover advantage since it is the only country that began negotiations with the US for a Bilateral Trade Agreement, they said.\\n\\nChina, a major manufacturing hub that caters to the world, has retaliated to the Trump tariffs by imposing 34 per cent duty on the US. But India did not make any such move. This was a wise play that gives India an edge in trade talks, sources said.\\n\\nThey also pointed out that the US sent its officials only to India for negotiations on tariffs after Trump took office in January. India and US are now trying to expedite the bilateral trade agreement that will be mutually beneficial and will cover a range of issues including deepening supply chain integration, according to the Commerce Ministry.\\n\\nIndia is negotiating with seven countries for a free trade agreement and trade talks will soon begin with Bahrain and Qatar, sources pointed out, suggesting that such deals would resolve the tariff tangle. New Delhi will also find new markets for its marine and jewellery products and other sectors impacted by the tariffs, they said.\\n\\nShould Exporters Fear?\\n\\nIndia's share in global exports has doubled between 2005 and 2023. It stood at 2.4 per cent in 2023, according to a report by the National Stock Exchange (NSE). The share of merchandise exports was 1.8 per cent and that of services export was 4.3 per cent.\\n\\n\\\"The US is the world's biggest economy and their global multi-sector tariffs will have an immediate impact on our exporters, but India does not have a big share in global exports, so this won't impact us a lot in the long term,\\\" said PHD Chamber of Commerce and Industry (PHDCCI) CEO Ranjeet Mehta while talking to NDTV.\\n\\nThe industry body assesses the tariffs on Indian exports could impact only 0.1% of the GDP due to the country's price competitiveness and supportive government policies.\\n\\n\\\"Strong domestic manufacturing, continued government handholding by (introducing) strategic policy measures like the PLI, Make in India, and Atmanirbhar Bharat, among others, will support India's growth resilience,\\\" said Hemant Jain, president, PHDCCI.\\n\\n'New Business Models Will Emerge'\\n\\nAt the same time, the tariffs will provide Indian exporters an opportunity to expand their footprint, said Mr Mehta, pointing to Prime Minister Narendra Modi's \\\"apada me avsar\\\" call to find opportunities amid challenges during the Covid pandemic.\\n\\n\\\"New business models and policies will emerge from this global tariff war. Even during a global disaster like the pandemic, India managed to find opportunities,\\\" said Mr Mehta.\\n\\nDiversification and innovation will be key that will sustain Indian exporters despite the challenges. Mr Mehta suggests that India must look for new opportunities and adapt to the changing scenario.\\n\\n\\\"India is a very big market of 1.4 billion people. Our consumption is huge. India is still the fastest-growing economy in emerging markets. But we must look at new opportunities and create new models. We must create a new ecosystem that will help us make our products more innovative and useful,\\\" he said.\\n\\nOpportunities Worth $50 Billion\\n\\nThe Federation of Indian Export Organizations (FIEO) expects market opportunities to grow by over $50 billion for Indian sellers due to the tariffs. \\\"We assess that in the next two to three years, Indian exporters will have a market opportunity of more than $ 50 billion in the international market due to the reciprocal tariff imposed by the US,\\\" FIEO CEO Ajay Sahai told NDTV.\\n\\nAjay Srivastava, founder of think-tank Global Trade Research Initiative (GTRI), too said the tariffs present a strategic opportunity for New Delhi to boost its presence in global trade and manufacturing. The textile industry may benefit from this. Higher tariffs on countries like China and Bangladesh may allow Indian garment manufacturers to gain market share, he said.\\n\\nHigher tariffs may put Vietnam and Thailand on the back foot and India - with initiatives like the Production-Linked Incentive (PLI) scheme - may help the domestic electronics manufacturers better position themselves in the global markets, he said. Similarly, with Taiwan facing higher tariffs from US, India has the potential to emerge as a preferred destination for semiconductor manufacturing.\",\n",
      "    \"url\": \"https://www.ndtv.com/world-news/us-tariffs-donald-trump-trump-tariffs-the-surprise-upside-for-india-8098423\"\n",
      "}\n"
     ]
    }
   ],
   "source": [
    "s = 1\n",
    "import newspaper\n",
    "from newspaper import Article\n",
    "import requests\n",
    "from newspaper.configuration import Configuration\n",
    "import json\n",
    "\n",
    "# URL of the article\n",
    "# Custom configuration to set headers\n",
    "config = Configuration()\n",
    "config.browser_user_agent = (\n",
    "    \"Mozilla/5.0 (Windows NT 10.0; Win64; x64) AppleWebKit/537.36 (KHTML, like Gecko) Chrome/110.0.0.0 Safari/537.36\"\n",
    ")\n",
    "\n",
    "# Create the Article object with the custom configuration\n",
    "article = Article(url, config=config)\n",
    "\n",
    "try:\n",
    "    # Fetch and parse the article\n",
    "    article.download()\n",
    "    article.parse()\n",
    "\n",
    "    # Extract content\n",
    "    article_data = {\n",
    "        \"title\": article.title,\n",
    "        \"authors\": article.authors,\n",
    "        \"publication_date\": str(article.publish_date) if article.publish_date else \"Unknown\",\n",
    "        \"content\": article.text,\n",
    "        \"url\": url\n",
    "    }\n",
    "\n",
    "    # Convert to JSON\n",
    "    article_json = json.dumps(article_data, indent=4)\n",
    "    print(article_json)\n",
    "\n",
    "except Exception as e:\n",
    "    print(f\"An error occurred: {e}\")\n",
    "    s =0\n",
    "\n",
    "article_dict = json.loads(article_json)\n"
   ]
  },
  {
   "cell_type": "code",
   "execution_count": 9,
   "metadata": {},
   "outputs": [
    {
     "data": {
      "text/plain": [
       "'As Indian equity markets panic turn and exporters brace for US President Donald Trump\\'s \"Liberation Day\" tariffs to kick in, the question is - will it be as harsh as feared? Regardless of gloom forecasters, pragmatism is the key.\\n\\nTrump has imposed a flat 26% tariff on Indian exports to the US in addition to a baseline duty of 10% applicable to all countries. The latter came into force on April 5 and the country-specific duty will go live Wednesday.\\n\\nAdvertisement - Scroll to continue\\n\\nThe worst impact will be felt by the electronics, gems, and jewellery sectors, experts fear. But that impact will be limited and short-term because of the country\\'s moderate share in global exports. The impact of the tariffs on competing economies is another aspect that may end up benefiting India, sources said.\\n\\nAdvantage India?\\n\\nThe US has imposed higher tariffs against countries like China, Vietnam and Indonesia - which compete with India in the export sector - and Indian exporters will benefit from this, said sources. India has the first mover advantage since it is the only country that began negotiations with the US for a Bilateral Trade Agreement, they said.\\n\\nChina, a major manufacturing hub that caters to the world, has retaliated to the Trump tariffs by imposing 34 per cent duty on the US. But India did not make any such move. This was a wise play that gives India an edge in trade talks, sources said.\\n\\nThey also pointed out that the US sent its officials only to India for negotiations on tariffs after Trump took office in January. India and US are now trying to expedite the bilateral trade agreement that will be mutually beneficial and will cover a range of issues including deepening supply chain integration, according to the Commerce Ministry.\\n\\nIndia is negotiating with seven countries for a free trade agreement and trade talks will soon begin with Bahrain and Qatar, sources pointed out, suggesting that such deals would resolve the tariff tangle. New Delhi will also find new markets for its marine and jewellery products and other sectors impacted by the tariffs, they said.\\n\\nShould Exporters Fear?\\n\\nIndia\\'s share in global exports has doubled between 2005 and 2023. It stood at 2.4 per cent in 2023, according to a report by the National Stock Exchange (NSE). The share of merchandise exports was 1.8 per cent and that of services export was 4.3 per cent.\\n\\n\"The US is the world\\'s biggest economy and their global multi-sector tariffs will have an immediate impact on our exporters, but India does not have a big share in global exports, so this won\\'t impact us a lot in the long term,\" said PHD Chamber of Commerce and Industry (PHDCCI) CEO Ranjeet Mehta while talking to NDTV.\\n\\nThe industry body assesses the tariffs on Indian exports could impact only 0.1% of the GDP due to the country\\'s price competitiveness and supportive government policies.\\n\\n\"Strong domestic manufacturing, continued government handholding by (introducing) strategic policy measures like the PLI, Make in India, and Atmanirbhar Bharat, among others, will support India\\'s growth resilience,\" said Hemant Jain, president, PHDCCI.\\n\\n\\'New Business Models Will Emerge\\'\\n\\nAt the same time, the tariffs will provide Indian exporters an opportunity to expand their footprint, said Mr Mehta, pointing to Prime Minister Narendra Modi\\'s \"apada me avsar\" call to find opportunities amid challenges during the Covid pandemic.\\n\\n\"New business models and policies will emerge from this global tariff war. Even during a global disaster like the pandemic, India managed to find opportunities,\" said Mr Mehta.\\n\\nDiversification and innovation will be key that will sustain Indian exporters despite the challenges. Mr Mehta suggests that India must look for new opportunities and adapt to the changing scenario.\\n\\n\"India is a very big market of 1.4 billion people. Our consumption is huge. India is still the fastest-growing economy in emerging markets. But we must look at new opportunities and create new models. We must create a new ecosystem that will help us make our products more innovative and useful,\" he said.\\n\\nOpportunities Worth $50 Billion\\n\\nThe Federation of Indian Export Organizations (FIEO) expects market opportunities to grow by over $50 billion for Indian sellers due to the tariffs. \"We assess that in the next two to three years, Indian exporters will have a market opportunity of more than $ 50 billion in the international market due to the reciprocal tariff imposed by the US,\" FIEO CEO Ajay Sahai told NDTV.\\n\\nAjay Srivastava, founder of think-tank Global Trade Research Initiative (GTRI), too said the tariffs present a strategic opportunity for New Delhi to boost its presence in global trade and manufacturing. The textile industry may benefit from this. Higher tariffs on countries like China and Bangladesh may allow Indian garment manufacturers to gain market share, he said.\\n\\nHigher tariffs may put Vietnam and Thailand on the back foot and India - with initiatives like the Production-Linked Incentive (PLI) scheme - may help the domestic electronics manufacturers better position themselves in the global markets, he said. Similarly, with Taiwan facing higher tariffs from US, India has the potential to emerge as a preferred destination for semiconductor manufacturing.'"
      ]
     },
     "execution_count": 9,
     "metadata": {},
     "output_type": "execute_result"
    }
   ],
   "source": [
    "cntnt = article_dict.get(\"content\", \"content not found\")\n",
    "if s == 0:\n",
    "    cntnt = \"\"\n",
    "cntnt\n"
   ]
  },
  {
   "cell_type": "code",
   "execution_count": 10,
   "metadata": {
    "colab": {
     "base_uri": "https://localhost:8080/",
     "height": 336,
     "referenced_widgets": [
      "76d7b925a25a461abed3f82e712e36aa",
      "4242b9969e9346b19c92252831065f3e",
      "71c203ac2a314efc8dd3692f767b66e5",
      "3d4b4c2a741f4666af02b44a649902da",
      "3b3e4b3085114ac9a9d81bbdc004bbc4",
      "e8a557ba787a4391a4d837688e1f8415",
      "7d67669e91464ea4a5785dcf26f21423",
      "aab713959c5c4b81bef49b302e619651",
      "316b505247e646c4a42550e000fe7dde",
      "d25b6873b2f3456aa6d28a2203aebdde",
      "0879dc0508e443cc89757520d87df305",
      "85f557c425f64184aa1ceb435b7770dc",
      "617150d2f70943af99e5064121b6f4b4",
      "65a3ac2c8fbb4e4096a74bdf89775c30",
      "ee127948788a48a4975ffb85bc466e83",
      "9c8c60cbf9584c2f9a60bea3363b18d2",
      "f3ac7d54883f4a9c8beb046463755999",
      "1b7da217f56e4ae0988e8d9c0ddb366f",
      "d6174a2cebbf413fbc089ab04ad1d60b",
      "1f1759dd1a6c47ab99e1b94073cb0f4f",
      "5b95f014dc434fa98190f028246b3d67",
      "5069fdb048614b659aa63be478a53e08",
      "92b1bb0047d84be2ac7eddd77a162af2",
      "df09f39eba9445698543f9c0785ef227",
      "70651b366e154cb3b7b4f2e95a5d1224",
      "e30718e8fccb4784bd01a5c117a41c29",
      "7cdd286a4dcf4b0690416af24bdbdf80",
      "a8fe6e41ae374535aee067c401a71f01",
      "0797c2efa4074eb18a45884aa5340e09",
      "739ebaa86ade44be8c44dde82b6a4a77",
      "7b3c12d3a6f34d3fbe4730cb9718018b",
      "a64cc15dd71145d8993d54dbb956fd01",
      "67524a1840d74905bdc2e3c7ad9bcc9e",
      "f24041ecd9ea4b37a8dc9fa03947b76c",
      "568f407ce8ae418d9df91061a4617466",
      "e682018b86b54947ae61013bdc7017fc",
      "b4518da5c5d44305902f2620512658da",
      "c888a4221f3148d2a472d4ca16a56875",
      "c33cdf045a184b4f9cac6c3105cdc245",
      "dc89c462ece44172bc2272d8f2001249",
      "66bfc1e53574431289c9f9e7a6c3c415",
      "e8dd3c438f2c4b67b3b1288110ec2180",
      "76f0c7ff2fc541ad916f9b1c73837235",
      "35b38706217d497685a90ffcba7c06f6",
      "f0f3a2dcc49d48d691e3166449cee68b",
      "d2d8e4ca188e4b74b16b7a388215f913",
      "f62b3c0d08534a64b28f65d4319a0826",
      "02bfff1be9884f72b17a154df85f1ae2",
      "bcd76ff9fa66476f926600b3b2ea3b72",
      "5615c2ef1adb4a9aa8292d76c4a4792f",
      "b9b2e8beaece479e8e0d3e3ee0763d1a",
      "31b14b32925b4484a54cd3e90caf30fb",
      "90ca26a708504bc99b854cc05b3b2040",
      "1b9d655ee2b9411a8de1072077c0e5d2",
      "32ba2278cfb94b66b8431fc788fcba29"
     ]
    },
    "id": "hToOj8uGmpu3",
    "outputId": "61ee05b5-ca47-425e-d903-d49bfd1856c5"
   },
   "outputs": [
    {
     "name": "stdout",
     "output_type": "stream",
     "text": [
      "Prediction: real\n"
     ]
    }
   ],
   "source": [
    "from transformers import AutoTokenizer, AutoModelForSequenceClassification\n",
    "import torch\n",
    "\n",
    "# Load the tokenizer and model\n",
    "tokenizer = AutoTokenizer.from_pretrained(\"Pulk17/Fake-News-Detection\")\n",
    "model = AutoModelForSequenceClassification.from_pretrained(\"Pulk17/Fake-News-Detection\")\n",
    "\n",
    "# Prepare the input\n",
    "inputs = tokenizer(cntnt, return_tensors=\"pt\", truncation=True, padding=True, max_length=512)\n",
    "\n",
    "# Perform inference\n",
    "with torch.no_grad():\n",
    "    outputs = model(**inputs)\n",
    "    logits = outputs.logits\n",
    "    predictions = torch.argmax(logits, dim=-1)\n",
    "\n",
    "# Interpret the prediction\n",
    "labels = [\"fake\", \"real\"]\n",
    "print(f\"Prediction: {labels[predictions.item()]}\")\n"
   ]
  },
  {
   "cell_type": "code",
   "execution_count": null,
   "metadata": {},
   "outputs": [],
   "source": []
  }
 ],
 "metadata": {
  "colab": {
   "provenance": []
  },
  "kernelspec": {
   "display_name": "Python 3",
   "name": "python3"
  },
  "language_info": {
   "codemirror_mode": {
    "name": "ipython",
    "version": 3
   },
   "file_extension": ".py",
   "mimetype": "text/x-python",
   "name": "python",
   "nbconvert_exporter": "python",
   "pygments_lexer": "ipython3",
   "version": "3.11.2"
  }
 },
 "nbformat": 4,
 "nbformat_minor": 0
}
